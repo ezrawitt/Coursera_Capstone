{
 "cells": [
  {
   "cell_type": "markdown",
   "metadata": {},
   "source": [
    "# Applied Data Science Capstone  \n",
    "#### Applied Data Science Capstone by IBM/Coursera.  \n",
    "> *Notebook Created by* **Ezra Witt**\n",
    "<br>\n",
    "   \n",
    "## Project Table of Contents\n",
    "1. [Introduction/Business Problem](#intro)\n",
    "    <br>\n",
    "2. [Data Section](#data)\n",
    "\n",
    "\n",
    "> *To learn more about this project or the IBM Data Science Professional Certificate visit this [website](https://www.coursera.org/professional-certificates/ibm-data-science)*"
   ]
  },
  {
   "cell_type": "markdown",
   "metadata": {},
   "source": [
    "Week 1 Requirements"
   ]
  },
  {
   "cell_type": "code",
   "execution_count": 3,
   "metadata": {},
   "outputs": [
    {
     "name": "stdout",
     "output_type": "stream",
     "text": [
      "Hello Capstone Project Course!\n"
     ]
    }
   ],
   "source": [
    "import pandas as pd # library for data analysis\n",
    "import numpy as np # library to handle data in a vectorized manner\n",
    "print('Hello Capstone Project Course!')"
   ]
  },
  {
   "cell_type": "markdown",
   "metadata": {},
   "source": [
    "***\n",
    "<a id=\"intro\"> </a>\n",
    "\n",
    "# `1. Introduction to the Business Problem`"
   ]
  },
  {
   "cell_type": "markdown",
   "metadata": {},
   "source": [
    "## 1.1 Background\n",
    "Many people hate moving and even find it stressful. This is unfortunate because **moving seems to be inevitable**. In fact, the US Census Bureau states **_the average American moves 11.7 times in their lifetime_** ([Calculating Migration Expectancy Using ACS Data](https://www.census.gov/topics/population/migration/guidance/calculating-migration-expectancy.html)). ___That is a lot of moving!___ The annual percentage of Americans who move is 11.2% ([American Moving & Storage Association](https://www.moving.org/newsroom/data-research/about-our-industry/)). \n",
    "\n",
    "One reason people don't enjoy moving is likely due to the cost associated with it. <br>\n",
    "<br>**_How much does moving cost?_**\n",
    "1. Average cost for an interstate move is **_4,100 dollars_**\n",
    "2. Average cost for an in-state move is **_980 dollars_**\n",
    "3. Each local mover hired charges, on average, **_25 dollars per hour_**.<br>\n",
    "*([Based on moveBuddha's Moving Cost Calculator](https://www.movebuddha.com/moving-cost-calculator/))*"
   ]
  },
  {
   "cell_type": "markdown",
   "metadata": {},
   "source": [
    "## 1.2 Problem\n",
    "While we may not be able to completely avoid moving, we may be able to limit the times we move by **moving smarter**. Many movers stay in the same state and tend to not go very far at all, 40.2% of all movers relocated less than 50 miles from their old home to their new one\n",
    "([Mover’s Remorse](https://porch.com/resource/movers-remorse)). It is my assumption that many of these people moving are realizing the neighborhood/area they were in was not ideal and they desire some change in location and/or access to local venues. \n",
    "\n",
    "The problem I intend to address through this data analysis is to eliminate some of the reasons people tend to relocate to help people **move smarter**. The US Census question from 2015-2016 surveyed Americans as to why they moved ([US Census Questionnaire](https://www.census.gov/topics/population/migration/guidance/calculating-migration-expectancy.html)), I will build upon their research to provide a model to help prospective moving families choose a neighborhood that will meet their desires/needs to ensure greater longevity in their new house. \n",
    "\n",
    "For this model these are the concerns listed in the US Census Questionnaire I will attempt to curve/address: <br>\n",
    "- Wanted new or better home/apartment — 17.4% <br>\n",
    "- New job or transfer — 10.8% <br>\n",
    "- Other family reason — 10.5% <br>\n",
    "- Wanted to own a home, not rent — 5.9% <br>\n",
    "- Wanted better neighborhood/less crime — 3.1% <br>\n",
    "\n",
    "In order to give the model more purpose I will create a family profile with desires for their new home to better tailor the results to address the above listed concerns. The family I am profiling is a family of four with two young children. There preferences in a new home are listed in the table below.\n",
    "<br>\n",
    "\n",
    "   | Family Profile    | Desires/Wants    |\n",
    "   | :---------------- |:----------------:|\n",
    "   | 1st Preference    | Family-Friendly  |\n",
    "   | 2nd Preference    | Safe / Low Crime |\n",
    "   | 3rd Preference    | Good Schools     |\n",
    "   | Desired City      | Chicago          |"
   ]
  },
  {
   "cell_type": "markdown",
   "metadata": {},
   "source": [
    "## 1.3 Interest\n",
    "I think that this model will have a lot of interest from the masses, with such a high number of people often moving it could address a common problem people face. My goal is to address several of the concerns above by creating a model that allows for **moving smarter**. This will help to limit those who have chosen to move because they *wanted new or better home/apartment 17.4%*, *other family reason 10.5%*, *wanted to own a home, not rent*, and/or *wanted a better neighborhood/less crime 3.1%*. While none of those reasons can be completely eliminated, especially with change over time, a better way of finding a great place to live may alleviate the need to move so often. \n",
    "\n",
    "According to the survey 10.8% of people said they moved due to a new job or transfer, however, the [American Moving & Storage Association](https://www.moving.org/newsroom/data-research/about-our-industry/) states that number is closer to 38% of those who move. This leads me to believe there may be interest from these corporations because if they can help in the relocation process and better ensure their relocated employees settle in, it allows the employee to focus with higher morale on the profession.\n",
    "\n",
    "Lastly, I believe this could be a good tool for real estate agents and companies because the ability to give more personalized suggestions to prospective buyers may allow for quicker closings and greater customer relationships."
   ]
  },
  {
   "cell_type": "markdown",
   "metadata": {},
   "source": [
    "***\n",
    "<a id=\"data\"> </a>\n",
    "\n",
    "# `2. Data Overview`"
   ]
  },
  {
   "cell_type": "markdown",
   "metadata": {},
   "source": [
    "Based on definition of our problem, factors that will influence our decission are:\n",
    "* number of family friendly venues in the neighborhood (defined below)\n",
    "* number of crime incidents in the neighborhood\n",
    "* ratings of schools in the neighborhood"
   ]
  },
  {
   "cell_type": "markdown",
   "metadata": {},
   "source": [
    "## 2.1 Data Sources\n",
    "To consider the problem and address the concerns the family gave in their profile I used the following data.\n",
    "<br>\n",
    "- Neighborhoods in Chicago from a [Kaggle Data Set](https://www.kaggle.com/afernandezcan/chicago-neighborhoods-2012) in order to get the preliminary information on neighborhoods.\n",
    "- Spatial Data of each neighborhood from the [Chicago Data Portal](https://data.cityofchicago.org/Facilities-Geographic-Boundaries/Boundaries-Neighborhoods/bbvz-uum9).\n",
    "- The Foursquare API to get family-friendly venues of each neighborhood.\n",
    "- A crime report from the [Chicago Data Portal](https://data.cityofchicago.org/Public-Safety/Crimes-2019/w98m-zvie).\n",
    "- School Progress Reports from the [Chicago Data Portal](https://data.cityofchicago.org/Education/Chicago-Public-Schools-School-Progress-Reports-SY1/dw27-rash)."
   ]
  },
  {
   "cell_type": "markdown",
   "metadata": {},
   "source": [
    "## 2.2 Data Collections\n",
    "Describe the data that you will be using to solve the problem or execute your idea. Remember that you will need to use the Foursquare location data to solve the problem or execute your idea. You can absolutely use other datasets in combination with the Foursquare location data. So make sure that you provide adequate explanation and discussion, with examples, of the data that you will be using, even if it is only Foursquare location data."
   ]
  },
  {
   "cell_type": "markdown",
   "metadata": {},
   "source": [
    "- The first data I pulled was the Chicago Crime Incidents from 2019. The dataset was available on the Chicago Data Portal. Upon reviewing the dataset I found it contains 259,115 rows and 30 columns, I will use this data to group by neighborhood to determine what neighborhoods have large numbers of incidents and what neighborhoods have a low number of incidents. \n",
    "\n",
    "> Chicago Crime Header: ![Chicago Crime Database](https://github.com/ezrawitt/Projects/blob/master/Chicago_Crimes.png?raw=true \"Crime Database\")\n",
    "***"
   ]
  },
  {
   "cell_type": "markdown",
   "metadata": {},
   "source": [
    "***\n",
    "- The next data I pulled was the Chicago School Progress Reports from 2019. The dataset was available on the Chicago Data Portal. Upon reviewing the dataset I found it contains 654 rows and 182 columns, I will use this data to group by neighborhood to determine how many highly rated schools each neighborhood contains. \n",
    "\n",
    "> Chicago Schools Progress Reports Header: ![Chicago School Progress Reports Dataset](https://github.com/ezrawitt/Projects/blob/master/Chicago_Schools.png?raw=true \"Chicago Schools\")\n",
    "\n",
    "***"
   ]
  },
  {
   "cell_type": "markdown",
   "metadata": {},
   "source": [
    "***\n",
    "\n",
    "- The next data I pulled was the Chicago neighborhoods geospatial data. The data was available on the Chicago Data Portal. I will use this data to create the boundaries and determine the best neighborhoods for our prospective family. \n",
    "\n",
    "> Chicago Neighborhoods Header: ![Neighborhoods Dataset](https://github.com/ezrawitt/Projects/blob/master/Chicago_Neighborhoods.png?raw=true \"Chicago Neighborhoods\")\n",
    "\n",
    "***"
   ]
  },
  {
   "cell_type": "markdown",
   "metadata": {},
   "source": [
    "***\n",
    "\n",
    "- The next data I pulled was the Chicago School Profiles Data. The dataset was available on the Chicago Data Portal. Upon reviewing the dataset I found it contains 654 rows and 95 columns, I will use this data to gather information on each school that is not included in the school progress reports. \n",
    "\n",
    "> School Profiles Header: ![School Profiles Dataset](https://github.com/ezrawitt/Projects/blob/master/School_Profiles.png?raw=true \"School Profiles\")\n",
    "\n",
    "***"
   ]
  },
  {
   "cell_type": "markdown",
   "metadata": {},
   "source": [
    "***\n",
    "\n",
    "- The next data I pulled was using the Foursquare location data. I started by finding the venues with a limit of 200 within a 500 mile radius, next I will define family-friendly venues and cluster based on neighborhoods.\n",
    "\n",
    "Foursquare Chicago Venues Map: ![Chicago Venues Map](https://github.com/ezrawitt/Projects/blob/master/Chicago_Venues.png?raw=true \"Chicago Venues\")\n",
    "\n",
    "***"
   ]
  },
  {
   "cell_type": "code",
   "execution_count": null,
   "metadata": {},
   "outputs": [],
   "source": []
  }
 ],
 "metadata": {
  "kernelspec": {
   "display_name": "Python",
   "language": "python",
   "name": "conda-env-python-py"
  },
  "language_info": {
   "codemirror_mode": {
    "name": "ipython",
    "version": 3
   },
   "file_extension": ".py",
   "mimetype": "text/x-python",
   "name": "python",
   "nbconvert_exporter": "python",
   "pygments_lexer": "ipython3",
   "version": "3.6.10"
  }
 },
 "nbformat": 4,
 "nbformat_minor": 4
}
